{
 "cells": [
  {
   "cell_type": "markdown",
   "id": "06d96fda-da54-4603-b574-e48a76a6d531",
   "metadata": {},
   "source": [
    "# 🦜 Parakeet \n",
    "\n",
    "Parakeet is the simplest Go library to create GenAI apps with Ollma (only text)"
   ]
  },
  {
   "cell_type": "markdown",
   "id": "31e97a94-c5c1-4658-adb1-d39a26f17144",
   "metadata": {},
   "source": [
    "## Simple completion"
   ]
  },
  {
   "cell_type": "code",
   "execution_count": null,
   "id": "b6ef8076-d74d-4516-80f7-be6621983ed0",
   "metadata": {},
   "outputs": [],
   "source": [
    "import (\n",
    "\t\"github.com/parakeet-nest/parakeet/completion\"\n",
    "\t\"github.com/parakeet-nest/parakeet/llm\"\n",
    "\t\"fmt\"\n",
    "\t\"log\"\n",
    ")\n",
    "\n",
    "func main() {\n",
    "\tollamaUrl := \"http://host.docker.internal:11434\"\n",
    "\tmodel := \"tinydolphin\"\n",
    "\n",
    "\toptions := llm.Options{\n",
    "\t\tTemperature: 0.5, // default (0.8)\n",
    "\t}\n",
    "\n",
    "\tquestion := llm.Query{\n",
    "\t\tModel: model,\n",
    "\t\tPrompt: \"Who is James T Kirk?\",\n",
    "\t\tOptions: options,\n",
    "\t}\n",
    "\n",
    "\tanswer, err := completion.Generate(ollamaUrl, question)\n",
    "\tif err != nil {\n",
    "\t\tlog.Fatal(\"😡:\", err)\n",
    "\t}\n",
    "\tfmt.Println(answer.Response)\n",
    "}"
   ]
  }
 ],
 "metadata": {
  "kernelspec": {
   "display_name": "Go (gonb)",
   "language": "go",
   "name": "gonb"
  },
  "language_info": {
   "codemirror_mode": "",
   "file_extension": ".go",
   "mimetype": "",
   "name": "go",
   "nbconvert_exporter": "",
   "pygments_lexer": "",
   "version": "go1.22.1"
  }
 },
 "nbformat": 4,
 "nbformat_minor": 5
}
